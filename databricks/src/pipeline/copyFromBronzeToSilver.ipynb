{
 "cells": [
  {
   "cell_type": "markdown",
   "metadata": {
    "application/vnd.databricks.v1+cell": {
     "cellMetadata": {
      "byteLimit": 2048000,
      "rowLimit": 10000
     },
     "inputWidgets": {},
     "nuid": "c642ecad-828a-4688-8a65-9c6e9e0a414a",
     "showTitle": false,
     "title": ""
    }
   },
   "source": [
    "1. Import required libraries"
   ]
  },
  {
   "cell_type": "code",
   "execution_count": 0,
   "metadata": {
    "application/vnd.databricks.v1+cell": {
     "cellMetadata": {
      "byteLimit": 2048000,
      "rowLimit": 10000
     },
     "inputWidgets": {},
     "nuid": "66cf3113-e466-4f69-ab9b-9194a7702a64",
     "showTitle": false,
     "title": ""
    }
   },
   "outputs": [],
   "source": [
    "from pyspark.sql.functions import to_timestamp, concat, col, lit, to_date, current_timestamp, explode\n",
    "from delta.tables import *"
   ]
  },
  {
   "cell_type": "code",
   "execution_count": 0,
   "metadata": {
    "application/vnd.databricks.v1+cell": {
     "cellMetadata": {
      "byteLimit": 2048000,
      "rowLimit": 10000
     },
     "inputWidgets": {},
     "nuid": "5f4f7c4f-a9bd-4bf6-adfc-766a54407628",
     "showTitle": false,
     "title": ""
    }
   },
   "outputs": [],
   "source": [
    "dbutils.widgets.text(\"destination\", \"\")\n",
    "file_destination = dbutils.widgets.get(\"destination\")\n",
    "absolute_path = \"/mnt/datalake_mount/\" + file_destination;"
   ]
  },
  {
   "cell_type": "markdown",
   "metadata": {
    "application/vnd.databricks.v1+cell": {
     "cellMetadata": {
      "byteLimit": 2048000,
      "rowLimit": 10000
     },
     "inputWidgets": {},
     "nuid": "a8ff745c-7ab5-4976-94db-5dd443cbc394",
     "showTitle": false,
     "title": ""
    }
   },
   "source": [
    "2. Import schema from patient notebook using magic command"
   ]
  },
  {
   "cell_type": "markdown",
   "metadata": {
    "application/vnd.databricks.v1+cell": {
     "cellMetadata": {
      "byteLimit": 2048000,
      "rowLimit": 10000
     },
     "inputWidgets": {},
     "nuid": "e351d9a3-e668-4e38-80da-079879a69e15",
     "showTitle": false,
     "title": ""
    }
   },
   "source": [
    "3. Include schema from '../pipeline/schema/patient' file"
   ]
  },
  {
   "cell_type": "code",
   "execution_count": 0,
   "metadata": {
    "application/vnd.databricks.v1+cell": {
     "cellMetadata": {
      "byteLimit": 2048000,
      "rowLimit": 10000
     },
     "inputWidgets": {},
     "nuid": "8f636ce4-f2ac-4913-884c-2f3e9c9e63f5",
     "showTitle": false,
     "title": ""
    }
   },
   "outputs": [],
   "source": [
    "%run \"../pipeline/schema/patient\""
   ]
  },
  {
   "cell_type": "markdown",
   "metadata": {
    "application/vnd.databricks.v1+cell": {
     "cellMetadata": {
      "byteLimit": 2048000,
      "rowLimit": 10000
     },
     "inputWidgets": {},
     "nuid": "e11595f1-bcbb-45e0-92be-124ed4a9c0ac",
     "showTitle": false,
     "title": ""
    }
   },
   "source": [
    "4. Read data from bronze layer"
   ]
  },
  {
   "cell_type": "code",
   "execution_count": 0,
   "metadata": {
    "application/vnd.databricks.v1+cell": {
     "cellMetadata": {
      "byteLimit": 2048000,
      "rowLimit": 10000
     },
     "inputWidgets": {},
     "nuid": "b0865c8a-cbd8-496a-ac7a-8e0c06d6c393",
     "showTitle": false,
     "title": ""
    }
   },
   "outputs": [
    {
     "output_type": "display_data",
     "data": {
      "text/html": [
       "<style scoped>\n",
       "  .table-result-container {\n",
       "    max-height: 300px;\n",
       "    overflow: auto;\n",
       "  }\n",
       "  table, th, td {\n",
       "    border: 1px solid black;\n",
       "    border-collapse: collapse;\n",
       "  }\n",
       "  th, td {\n",
       "    padding: 5px;\n",
       "  }\n",
       "  th {\n",
       "    text-align: left;\n",
       "  }\n",
       "</style><div class='table-result-container'><table class='table-result'><thead style='background-color: white'><tr><th>mountPoint</th><th>source</th><th>encryptionType</th></tr></thead><tbody><tr><td>/databricks-datasets</td><td>databricks-datasets</td><td></td></tr><tr><td>/mnt/datalake_mount</td><td>abfss://datalake@datalakebigdataywgug1c0m.dfs.core.windows.net</td><td></td></tr><tr><td>/Volumes</td><td>UnityCatalogVolumes</td><td></td></tr><tr><td>/databricks/mlflow-tracking</td><td>databricks/mlflow-tracking</td><td></td></tr><tr><td>/databricks-results</td><td>databricks-results</td><td></td></tr><tr><td>/databricks/mlflow-registry</td><td>databricks/mlflow-registry</td><td></td></tr><tr><td>/Volume</td><td>DbfsReserved</td><td></td></tr><tr><td>/volumes</td><td>DbfsReserved</td><td></td></tr><tr><td>/</td><td>DatabricksRoot</td><td></td></tr><tr><td>/volume</td><td>DbfsReserved</td><td></td></tr></tbody></table></div>"
      ]
     },
     "metadata": {
      "application/vnd.databricks.v1+output": {
       "addedWidgets": {},
       "aggData": [],
       "aggError": "",
       "aggOverflow": false,
       "aggSchema": [],
       "aggSeriesLimitReached": false,
       "aggType": "",
       "arguments": {},
       "columnCustomDisplayInfos": {},
       "data": [
        [
         "/databricks-datasets",
         "databricks-datasets",
         ""
        ],
        [
         "/mnt/datalake_mount",
         "abfss://datalake@datalakebigdataywgug1c0m.dfs.core.windows.net",
         ""
        ],
        [
         "/Volumes",
         "UnityCatalogVolumes",
         ""
        ],
        [
         "/databricks/mlflow-tracking",
         "databricks/mlflow-tracking",
         ""
        ],
        [
         "/databricks-results",
         "databricks-results",
         ""
        ],
        [
         "/databricks/mlflow-registry",
         "databricks/mlflow-registry",
         ""
        ],
        [
         "/Volume",
         "DbfsReserved",
         ""
        ],
        [
         "/volumes",
         "DbfsReserved",
         ""
        ],
        [
         "/",
         "DatabricksRoot",
         ""
        ],
        [
         "/volume",
         "DbfsReserved",
         ""
        ]
       ],
       "datasetInfos": [],
       "dbfsResultPath": null,
       "isJsonSchema": true,
       "metadata": {},
       "overflow": false,
       "plotOptions": {
        "customPlotOptions": {},
        "displayType": "table",
        "pivotAggregation": null,
        "pivotColumns": null,
        "xColumns": null,
        "yColumns": null
       },
       "removedWidgets": [],
       "schema": [
        {
         "metadata": "{}",
         "name": "mountPoint",
         "type": "\"string\""
        },
        {
         "metadata": "{}",
         "name": "source",
         "type": "\"string\""
        },
        {
         "metadata": "{}",
         "name": "encryptionType",
         "type": "\"string\""
        }
       ],
       "type": "table"
      }
     },
     "output_type": "display_data"
    }
   ],
   "source": [
    "display(dbutils.fs.mounts())"
   ]
  },
  {
   "cell_type": "code",
   "execution_count": 0,
   "metadata": {
    "application/vnd.databricks.v1+cell": {
     "cellMetadata": {
      "byteLimit": 2048000,
      "rowLimit": 10000
     },
     "inputWidgets": {},
     "nuid": "a016cc27-364b-4ab4-9a61-ab877fe08e88",
     "showTitle": false,
     "title": ""
    }
   },
   "outputs": [],
   "source": [
    "df = spark.read.schema(schema).option(\"recursiveFileLookup\",\"true\").json(absolute_path, multiLine=True)\n",
    "df = df.dropDuplicates(subset = ['id'])"
   ]
  },
  {
   "cell_type": "code",
   "execution_count": 0,
   "metadata": {
    "application/vnd.databricks.v1+cell": {
     "cellMetadata": {
      "byteLimit": 2048000,
      "rowLimit": 10000
     },
     "inputWidgets": {},
     "nuid": "8f332dc6-aa45-4715-9062-831dd5970b40",
     "showTitle": false,
     "title": ""
    }
   },
   "outputs": [
    {
     "output_type": "stream",
     "name": "stdout",
     "output_type": "stream",
     "text": [
      "+------+------+--------+----------+------------+--------------------+--------------------+--------------------+\n|active|gender|      id| birthDate|resourceType|             address|                name|             telecom|\n+------+------+--------+----------+------------+--------------------+--------------------+--------------------+\n|  true|  male|example1|1974-12-25|     Patient|[{PleasantVille, ...|[{official, Chalm...|[{home, null, nul...|\n+------+------+--------+----------+------------+--------------------+--------------------+--------------------+\n\n"
     ]
    }
   ],
   "source": [
    "df.show()"
   ]
  },
  {
   "cell_type": "code",
   "execution_count": 0,
   "metadata": {
    "application/vnd.databricks.v1+cell": {
     "cellMetadata": {
      "byteLimit": 2048000,
      "rowLimit": 10000
     },
     "inputWidgets": {},
     "nuid": "a1a0e7ef-2834-4f5f-aabb-986a6a2c8d82",
     "showTitle": false,
     "title": ""
    }
   },
   "outputs": [],
   "source": [
    "df_converted_date = df.withColumn(\"birth_date\", to_date(col(\"birthDate\"), 'yyyy-MM-dd'))\\\n",
    "    .withColumn(\"ingestion_date\", current_timestamp())\\\n",
    "    .withColumnRenamed(\"resourceType\", \"resource_type\")\\\n",
    "    .drop(col(\"birthDate\"))\n",
    "\n",
    "#df_address_explode = df_converted_date.select(explode(df.address))\n"
   ]
  },
  {
   "cell_type": "code",
   "execution_count": 0,
   "metadata": {
    "application/vnd.databricks.v1+cell": {
     "cellMetadata": {
      "byteLimit": 2048000,
      "rowLimit": 10000
     },
     "inputWidgets": {},
     "nuid": "9f10a5fd-d240-4481-a92e-41e0dc21d0ca",
     "showTitle": false,
     "title": ""
    }
   },
   "outputs": [
    {
     "output_type": "stream",
     "name": "stdout",
     "output_type": "stream",
     "text": [
      "Out[32]: Row(active=True, gender='male', id='example1', resource_type='Patient', address=[Row(city='PleasantVille', district='Rainbow', postal=None, state='Vic', type='both', use='home', line=['534 Erewhon St'])], name=[Row(use='official', family='Chalmers', given=['Peter', 'James'], period=None), Row(use='usual', family=None, given=['Jim'], period=None), Row(use='maiden', family='Windsor', given=['Peter', 'James'], period=Row(start=None, end='2002'))], telecom=[Row(use='home', value=None, system=None, rank=None, period=None), Row(use='work', value='(03) 5555 6473', system='phone', rank=1, period=None), Row(use='mobile', value='(03) 3410 5613', system='phone', rank=2, period=None), Row(use='old', value='(03) 5555 8834', system='phone', rank=None, period=Row(start=None, end='2014'))], birth_date=datetime.date(1974, 12, 25), ingestion_date=datetime.datetime(2023, 8, 8, 8, 59, 59, 861000))"
     ]
    }
   ],
   "source": [
    "df_converted_date.head()"
   ]
  },
  {
   "cell_type": "code",
   "execution_count": 0,
   "metadata": {
    "application/vnd.databricks.v1+cell": {
     "cellMetadata": {
      "byteLimit": 2048000,
      "implicitDf": true,
      "rowLimit": 10000
     },
     "inputWidgets": {},
     "nuid": "dd4e030c-d4cc-431f-97bb-ffb93e830028",
     "showTitle": false,
     "title": ""
    }
   },
   "outputs": [],
   "source": [
    "#%sql\n",
    "#DROP TABLE IF EXISTS patients"
   ]
  },
  {
   "cell_type": "code",
   "execution_count": 0,
   "metadata": {
    "application/vnd.databricks.v1+cell": {
     "cellMetadata": {
      "byteLimit": 2048000,
      "rowLimit": 10000
     },
     "inputWidgets": {},
     "nuid": "9686f284-1069-46c3-822c-3d65b147b854",
     "showTitle": false,
     "title": ""
    }
   },
   "outputs": [],
   "source": [
    "#spark.sql(\"show tables\").show()"
   ]
  },
  {
   "cell_type": "code",
   "execution_count": 0,
   "metadata": {
    "application/vnd.databricks.v1+cell": {
     "cellMetadata": {
      "byteLimit": 2048000,
      "rowLimit": 10000
     },
     "inputWidgets": {},
     "nuid": "ee0740e2-ec89-4fa0-acdf-64075c7df2c4",
     "showTitle": false,
     "title": ""
    }
   },
   "outputs": [],
   "source": [
    "patient_delta_table = DeltaTable.createIfNotExists(spark).location(\"/mnt/datalake_mount/silver/patient-table\")\\\n",
    "  .tableName(\"patients\") \\\n",
    "  .addColumns(df_converted_date.schema)\\\n",
    "  .addColumn(\"update_date\", \"TIMESTAMP\")\\\n",
    "  .execute()"
   ]
  },
  {
   "cell_type": "code",
   "execution_count": 0,
   "metadata": {
    "application/vnd.databricks.v1+cell": {
     "cellMetadata": {
      "byteLimit": 2048000,
      "rowLimit": 10000
     },
     "inputWidgets": {},
     "nuid": "d798d4b6-b38a-46a1-9a31-2064ac3f66d9",
     "showTitle": false,
     "title": ""
    }
   },
   "outputs": [],
   "source": [
    "#patient_delta_table = DeltaTable.forPath(spark, \"/mnt/datalake_mount/silver/patient-table\")\n",
    "\n",
    "patient_delta_table.alias('patients') \\\n",
    "  .merge(\n",
    "    df_converted_date.alias('updates'),\n",
    "    'patients.id = updates.id'\n",
    "  ) \\\n",
    "  .whenMatchedUpdate(set =\n",
    "    {\n",
    "      \"id\": \"updates.id\",\n",
    "      \"active\": \"updates.active\",\n",
    "      \"gender\": \"updates.gender\",\n",
    "      \"resource_type\": \"updates.resource_type\",\n",
    "      \"address\": \"updates.address\",\n",
    "      \"name\": \"updates.name\",\n",
    "      \"telecom\": \"updates.telecom\",\n",
    "      \"birth_date\": \"updates.birth_date\",\n",
    "      \"update_date\": current_timestamp()\n",
    "    }\n",
    "  ) \\\n",
    "  .whenNotMatchedInsert(values =\n",
    "     {\n",
    "      \"id\": \"updates.id\",\n",
    "      \"active\": \"updates.active\",\n",
    "      \"gender\": \"updates.gender\",\n",
    "      \"resource_type\": \"updates.resource_type\",\n",
    "      \"address\": \"updates.address\",\n",
    "      \"name\": \"updates.name\",\n",
    "      \"telecom\": \"updates.telecom\",\n",
    "      \"birth_date\": \"updates.birth_date\",\n",
    "      \"ingestion_date\": current_timestamp()\n",
    "    }\n",
    "  ) \\\n",
    "  .execute()"
   ]
  },
  {
   "cell_type": "code",
   "execution_count": 0,
   "metadata": {
    "application/vnd.databricks.v1+cell": {
     "cellMetadata": {
      "byteLimit": 2048000,
      "implicitDf": true,
      "rowLimit": 10000
     },
     "inputWidgets": {},
     "nuid": "00d1ee00-19d2-4de1-b955-9052a3232e00",
     "showTitle": false,
     "title": ""
    }
   },
   "outputs": [
    {
     "output_type": "display_data",
     "data": {
      "text/html": [
       "<style scoped>\n",
       "  .table-result-container {\n",
       "    max-height: 300px;\n",
       "    overflow: auto;\n",
       "  }\n",
       "  table, th, td {\n",
       "    border: 1px solid black;\n",
       "    border-collapse: collapse;\n",
       "  }\n",
       "  th, td {\n",
       "    padding: 5px;\n",
       "  }\n",
       "  th {\n",
       "    text-align: left;\n",
       "  }\n",
       "</style><div class='table-result-container'><table class='table-result'><thead style='background-color: white'><tr><th>active</th><th>gender</th><th>id</th><th>resource_type</th><th>address</th><th>name</th><th>telecom</th><th>birth_date</th><th>ingestion_date</th><th>update_date</th></tr></thead><tbody><tr><td>true</td><td>male</td><td>example1</td><td>Patient</td><td>List(List(PleasantVille, Rainbow, null, Vic, both, home, List(534 Erewhon St)))</td><td>List(List(official, Chalmers, List(Peter, James), null), List(usual, null, List(Jim), null), List(maiden, Windsor, List(Peter, James), List(null, 2002)))</td><td>List(List(home, null, null, null, null), List(work, (03) 5555 6473, phone, 1, null), List(mobile, (03) 3410 5613, phone, 2, null), List(old, (03) 5555 8834, phone, null, List(null, 2014)))</td><td>1974-12-25</td><td>2023-08-06T19:31:46.069+0000</td><td>2023-08-08T09:00:08.869+0000</td></tr><tr><td>true</td><td>male</td><td>example</td><td>Patient</td><td>List(List(PleasantVille, Rainbow, null, Vic, both, home, List(534 Erewhon St)))</td><td>List(List(official, Chalmers, List(Peter, James), null), List(usual, null, List(Jim), null), List(maiden, Windsor, List(Peter, James), List(null, 2002)))</td><td>List(List(home, null, null, null, null), List(work, (03) 5555 6473, phone, 1, null), List(mobile, (03) 3410 5613, phone, 2, null), List(old, (03) 5555 8834, phone, null, List(null, 2014)))</td><td>1974-12-25</td><td>2023-08-06T19:09:41.830+0000</td><td>2023-08-06T19:56:02.809+0000</td></tr></tbody></table></div>"
      ]
     },
     "metadata": {
      "application/vnd.databricks.v1+output": {
       "addedWidgets": {},
       "aggData": [],
       "aggError": "",
       "aggOverflow": false,
       "aggSchema": [],
       "aggSeriesLimitReached": false,
       "aggType": "",
       "arguments": {},
       "columnCustomDisplayInfos": {},
       "data": [
        [
         true,
         "male",
         "example1",
         "Patient",
         [
          [
           "PleasantVille",
           "Rainbow",
           null,
           "Vic",
           "both",
           "home",
           [
            "534 Erewhon St"
           ]
          ]
         ],
         [
          [
           "official",
           "Chalmers",
           [
            "Peter",
            "James"
           ],
           null
          ],
          [
           "usual",
           null,
           [
            "Jim"
           ],
           null
          ],
          [
           "maiden",
           "Windsor",
           [
            "Peter",
            "James"
           ],
           [
            null,
            "2002"
           ]
          ]
         ],
         [
          [
           "home",
           null,
           null,
           null,
           null
          ],
          [
           "work",
           "(03) 5555 6473",
           "phone",
           1,
           null
          ],
          [
           "mobile",
           "(03) 3410 5613",
           "phone",
           2,
           null
          ],
          [
           "old",
           "(03) 5555 8834",
           "phone",
           null,
           [
            null,
            "2014"
           ]
          ]
         ],
         "1974-12-25",
         "2023-08-06T19:31:46.069+0000",
         "2023-08-08T09:00:08.869+0000"
        ],
        [
         true,
         "male",
         "example",
         "Patient",
         [
          [
           "PleasantVille",
           "Rainbow",
           null,
           "Vic",
           "both",
           "home",
           [
            "534 Erewhon St"
           ]
          ]
         ],
         [
          [
           "official",
           "Chalmers",
           [
            "Peter",
            "James"
           ],
           null
          ],
          [
           "usual",
           null,
           [
            "Jim"
           ],
           null
          ],
          [
           "maiden",
           "Windsor",
           [
            "Peter",
            "James"
           ],
           [
            null,
            "2002"
           ]
          ]
         ],
         [
          [
           "home",
           null,
           null,
           null,
           null
          ],
          [
           "work",
           "(03) 5555 6473",
           "phone",
           1,
           null
          ],
          [
           "mobile",
           "(03) 3410 5613",
           "phone",
           2,
           null
          ],
          [
           "old",
           "(03) 5555 8834",
           "phone",
           null,
           [
            null,
            "2014"
           ]
          ]
         ],
         "1974-12-25",
         "2023-08-06T19:09:41.830+0000",
         "2023-08-06T19:56:02.809+0000"
        ]
       ],
       "datasetInfos": [],
       "dbfsResultPath": null,
       "isJsonSchema": true,
       "metadata": {},
       "overflow": false,
       "plotOptions": {
        "customPlotOptions": {},
        "displayType": "table",
        "pivotAggregation": null,
        "pivotColumns": null,
        "xColumns": null,
        "yColumns": null
       },
       "removedWidgets": [],
       "schema": [
        {
         "metadata": "{}",
         "name": "active",
         "type": "\"boolean\""
        },
        {
         "metadata": "{}",
         "name": "gender",
         "type": "\"string\""
        },
        {
         "metadata": "{}",
         "name": "id",
         "type": "\"string\""
        },
        {
         "metadata": "{}",
         "name": "resource_type",
         "type": "\"string\""
        },
        {
         "metadata": "{}",
         "name": "address",
         "type": "{\"type\":\"array\",\"elementType\":{\"type\":\"struct\",\"fields\":[{\"name\":\"city\",\"type\":\"string\",\"nullable\":true,\"metadata\":{}},{\"name\":\"district\",\"type\":\"string\",\"nullable\":true,\"metadata\":{}},{\"name\":\"postal\",\"type\":\"string\",\"nullable\":true,\"metadata\":{}},{\"name\":\"state\",\"type\":\"string\",\"nullable\":true,\"metadata\":{}},{\"name\":\"type\",\"type\":\"string\",\"nullable\":true,\"metadata\":{}},{\"name\":\"use\",\"type\":\"string\",\"nullable\":true,\"metadata\":{}},{\"name\":\"line\",\"type\":{\"type\":\"array\",\"elementType\":\"string\",\"containsNull\":true},\"nullable\":true,\"metadata\":{}}]},\"containsNull\":true}"
        },
        {
         "metadata": "{}",
         "name": "name",
         "type": "{\"type\":\"array\",\"elementType\":{\"type\":\"struct\",\"fields\":[{\"name\":\"use\",\"type\":\"string\",\"nullable\":true,\"metadata\":{}},{\"name\":\"family\",\"type\":\"string\",\"nullable\":true,\"metadata\":{}},{\"name\":\"given\",\"type\":{\"type\":\"array\",\"elementType\":\"string\",\"containsNull\":true},\"nullable\":true,\"metadata\":{}},{\"name\":\"period\",\"type\":{\"type\":\"struct\",\"fields\":[{\"name\":\"start\",\"type\":\"string\",\"nullable\":true,\"metadata\":{}},{\"name\":\"end\",\"type\":\"string\",\"nullable\":true,\"metadata\":{}}]},\"nullable\":true,\"metadata\":{}}]},\"containsNull\":true}"
        },
        {
         "metadata": "{}",
         "name": "telecom",
         "type": "{\"type\":\"array\",\"elementType\":{\"type\":\"struct\",\"fields\":[{\"name\":\"use\",\"type\":\"string\",\"nullable\":true,\"metadata\":{}},{\"name\":\"value\",\"type\":\"string\",\"nullable\":true,\"metadata\":{}},{\"name\":\"system\",\"type\":\"string\",\"nullable\":true,\"metadata\":{}},{\"name\":\"rank\",\"type\":\"integer\",\"nullable\":true,\"metadata\":{}},{\"name\":\"period\",\"type\":{\"type\":\"struct\",\"fields\":[{\"name\":\"start\",\"type\":\"string\",\"nullable\":true,\"metadata\":{}},{\"name\":\"end\",\"type\":\"string\",\"nullable\":true,\"metadata\":{}}]},\"nullable\":true,\"metadata\":{}}]},\"containsNull\":true}"
        },
        {
         "metadata": "{}",
         "name": "birth_date",
         "type": "\"date\""
        },
        {
         "metadata": "{}",
         "name": "ingestion_date",
         "type": "\"timestamp\""
        },
        {
         "metadata": "{}",
         "name": "update_date",
         "type": "\"timestamp\""
        }
       ],
       "type": "table"
      }
     },
     "output_type": "display_data"
    }
   ],
   "source": [
    "%sql\n",
    "select * from patients"
   ]
  }
 ],
 "metadata": {
  "application/vnd.databricks.v1+notebook": {
   "dashboards": [],
   "language": "python",
   "notebookMetadata": {
    "mostRecentlyExecutedCommandWithImplicitDF": {
     "commandId": 973092789204900,
     "dataframes": [
      "_sqldf"
     ]
    },
    "pythonIndentUnit": 4
   },
   "notebookName": "copyFromBronzeToSilver.py",
   "widgets": {
    "destination": {
     "currentValue": "bronze/2023/08/08/patient-example1.json",
     "nuid": "8c76d774-6f9d-4683-b2e8-ac7efbee25cc",
     "widgetInfo": {
      "widgetType": "text",
      "defaultValue": "",
      "label": null,
      "name": "destination",
      "options": {
       "widgetType": "text",
       "validationRegex": null
      }
     }
    },
    "file_path": {
     "currentValue": "",
     "nuid": "1c35dfb9-67ea-406f-9bd0-c55ec2e3b80c",
     "widgetInfo": {
      "widgetType": "text",
      "defaultValue": "",
      "label": null,
      "name": "file_path",
      "options": {
       "widgetType": "text",
       "validationRegex": null
      }
     }
    },
    "p_data_source": {
     "currentValue": "",
     "nuid": "87248d8f-c6c2-4421-8bdd-ecd05e9f2fbb",
     "widgetInfo": {
      "widgetType": "text",
      "defaultValue": "",
      "label": null,
      "name": "p_data_source",
      "options": {
       "widgetType": "text",
       "validationRegex": null
      }
     }
    }
   }
  }
 },
 "nbformat": 4,
 "nbformat_minor": 0
}
